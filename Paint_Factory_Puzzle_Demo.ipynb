{
 "cells": [
  {
   "cell_type": "markdown",
   "metadata": {},
   "source": [
    "# Paint Factory Code Challenge\n",
    "#### Author: Muhammad Ammad-ud-din\n",
    "#### Place: Helsinki, Finland\n",
    "#### Date: 09 March, 2019\n",
    "#### License: Apache 2.0"
   ]
  },
  {
   "cell_type": "markdown",
   "metadata": {},
   "source": [
    "# Executive Summary\n",
    "This demo explains the solution for the given paint factory code challenge. The solution works on the prinicple of least cost and seek to satisfy customers with minmium choices and would want the paint type: glossy. The robustness of the solutions are evaluated by manually designed numerous example case studies."
   ]
  },
  {
   "cell_type": "markdown",
   "metadata": {},
   "source": [
    "# Configurations, Running and Testing\n",
    "The solution is provided as a standalone python application and does not depend on external libraries or dependencies except python inbuilt-libaries: sys, os and unittest. The scripts are developed on python version 3.6.4 or above. The main file needed to run and execute the code is paint_factory.py. The file can be run from within python or terminal. To run from terminal, use \"python paint_factory.py ORDER_NAME\" so that the current working directory is set to contain paint_factory.py. The ORDER_NAME is expected to be a fully-qualified relative path ending with the order name (the input file). The output is shown on the terminal. In case no ORDER_NAME is provided, the script runs with a default example case study as given in the problem description.\n",
    "\n",
    "To evaluate the robustness of the solution, several unit tests were performed using custom designed inputs and their corresponding outputs inferred manually.  To run the unit test use the command: \"python test.py\". All the tests were successfully passed showing that the solution is robust and is capable of handling multitude of customer order. "
   ]
  },
  {
   "cell_type": "markdown",
   "metadata": {},
   "source": [
    "# Potential Solutions\n",
    "\n",
    "There exist various approaches to solve this problem such as approximate search, permutation and algorithmic.\n",
    "\n",
    "The constraints posed in the problem statement motivate to adopt an algorithm-based approach. Notably, the constraints such as one matte color per customer at maximum and preference of glossy over matte, restrict the search space of solutions considerably and an algorithm-based approach can become a natural choice. Hence, I chose to solve this problem with the this approach.\n",
    "\n",
    "As an alternative approach, the approximate search uses evolutionary or genetic algorithms and intends to optimize a few chosen solutions based on the constraints.  These algorithms can find potential putative solutions; however, they may require a substantial longer convergence time thereby satisfying all the constraints, meanwhile comprising the theoretical guarantees. If the objective is to determine an approximate solution for the IMPOSSIBLE cases only; these approaches would become a potential approach to solve the problem.\n",
    "\n",
    "On the other hand, a permutation-based approach is a powerful competitor to solve this problem. However, this approach can be computationally exhaustive, since the number of permutations to evaluate can grow exponentially with increasing number of input choices."
   ]
  },
  {
   "cell_type": "markdown",
   "metadata": {},
   "source": [
    "# Solution\n",
    "\n",
    "The following classes and functions produced the entire solution pipeline:\n",
    "\n",
    "### 1. CustomerOrder\n",
    "The class CustomerOrder implements the necessary functionality to read customer order (that is the input file) and store it in a list format. In Python, lists make a handy data structure, for example, Stack. Specifically, Stack works on the principle of last-in, first-out. Also, the inbuilt functions in Python allows performing the Stack operation in a short and simple way. To insert an element to the top of the list, i.e., to push an item, append() function and be used and to pop out an element, the pop() function is available, though direct indexing can also be utilized. These functions work quiet efficiently and fast in end operations. \n",
    "\n",
    "### 2. Utilities\n",
    "The solution include numerous utility functions to support the solving the task at hand. For instance, the compareCustomers() and compareChoices() are used as custom functions to sort the customers and their choices in ascending order. \n",
    "\n",
    "### 3. DeliverOrder\n",
    "The delivery_service contains the deliverOrder() function to present the solution in the desired output format. \n",
    "\n",
    "### 4. PaintMaker\n",
    "The class PaintMaker implements the actual solver using a Stack data structure. The solution has a very simple idea and work in three steps. \n",
    "\n",
    "As a first step, the customer choices are sorted such that at first we yield customers with minimum choices and then sort each of the choices in a way the glossy paint type takes priority. This favors the principle of least cost. As a second step, a path of choices is maintained to support backtracking if all the customers cannot be satisfied (for a current path)\n",
    "As the final step, if all the choices have been considered (or tried), it results in the fail scenario (that is IMPOSSIBLE). \n",
    "\n",
    "In this way, each of the customer case is solved and the paint type is inferred that satisfies a customer, if possible. \n",
    "\n",
    "### 5. Tester: \n",
    "The PaintMaker has been validated using multiple test cases. All of the tests were succesfully passed which demonstrate the usefulness and robustness of the solution. The notebook demostrate the applicability of the solution on several customer orders (input files), the results are presented below. "
   ]
  },
  {
   "cell_type": "code",
   "execution_count": 1,
   "metadata": {},
   "outputs": [],
   "source": [
    "import sys\n",
    "sys.path.append('paintfactory/')\n",
    "from order_services.customer_order import CustomerOrder\n",
    "from delivery_services.delivery_order import deliverOrder\n",
    "from paintmaker.paint_maker import PaintMaker\n",
    "from platform import python_version\n",
    "print(python_version())"
   ]
  },
  {
   "cell_type": "markdown",
   "metadata": {},
   "source": [
    "### Demo (as given in the problem statement)"
   ]
  },
  {
   "cell_type": "code",
   "execution_count": 2,
   "metadata": {},
   "outputs": [],
   "source": [
    "orderLocation = 'paintfactory/orders/demo_order.txt'\n",
    "with open(orderLocation, 'r') as order:\n",
    "    order = order.readlines()\n",
    "    for line in order:\n",
    "        print(line.strip())"
   ]
  },
  {
   "cell_type": "code",
   "execution_count": 3,
   "metadata": {},
   "outputs": [],
   "source": [
    "customerOrder = CustomerOrder(orderLocation)\n",
    "orders = customerOrder.analyzeCustomerOrders()\n",
    "\n",
    "if orders is not None:\n",
    "    paintMaker = PaintMaker(orders)\n",
    "    deliveryReports = paintMaker.executeOrders()\n",
    "    for report in deliveryReports:\n",
    "        print(deliverOrder(report[0], report[1], report[2]))"
   ]
  },
  {
   "cell_type": "markdown",
   "metadata": {},
   "source": [
    "### Example 1"
   ]
  },
  {
   "cell_type": "code",
   "execution_count": 4,
   "metadata": {},
   "outputs": [],
   "source": [
    "orderLocation = 'paintfactory/orders/order1.txt'\n",
    "with open(orderLocation, 'r') as order:\n",
    "    order = order.readlines()\n",
    "    for line in order:\n",
    "        print(line.strip())"
   ]
  },
  {
   "cell_type": "code",
   "execution_count": 5,
   "metadata": {},
   "outputs": [],
   "source": [
    "customerOrder = CustomerOrder(orderLocation)\n",
    "orders = customerOrder.analyzeCustomerOrders()\n",
    "\n",
    "if orders is not None:\n",
    "    paintMaker = PaintMaker(orders)\n",
    "    deliveryReports = paintMaker.executeOrders()\n",
    "\n",
    "    for report in deliveryReports:\n",
    "        print(deliverOrder(report[0], report[1], report[2]))"
   ]
  },
  {
   "cell_type": "markdown",
   "metadata": {},
   "source": [
    "#### Example 2"
   ]
  },
  {
   "cell_type": "code",
   "execution_count": 6,
   "metadata": {},
   "outputs": [],
   "source": [
    "orderLocation = 'paintfactory/orders/order2.txt'\n",
    "with open(orderLocation, 'r') as order:\n",
    "    order = order.readlines()\n",
    "    for line in order:\n",
    "        print(line.strip())"
   ]
  },
  {
   "cell_type": "code",
   "execution_count": 7,
   "metadata": {},
   "outputs": [],
   "source": [
    "customerOrder = CustomerOrder(orderLocation)\n",
    "orders = customerOrder.analyzeCustomerOrders()\n",
    "\n",
    "if orders is not None:\n",
    "    paintMaker = PaintMaker(orders)\n",
    "    deliveryReports = paintMaker.executeOrders()\n",
    "\n",
    "    for report in deliveryReports:\n",
    "        print(deliverOrder(report[0], report[1], report[2]))"
   ]
  },
  {
   "cell_type": "markdown",
   "metadata": {},
   "source": [
    "#### Example 3"
   ]
  },
  {
   "cell_type": "code",
   "execution_count": 8,
   "metadata": {},
   "outputs": [],
   "source": [
    "orderLocation = 'paintfactory/orders/order3.txt'\n",
    "with open(orderLocation, 'r') as order:\n",
    "    order = order.readlines()\n",
    "    for line in order:\n",
    "        print(line.strip())"
   ]
  },
  {
   "cell_type": "code",
   "execution_count": 9,
   "metadata": {},
   "outputs": [],
   "source": [
    "customerOrder = CustomerOrder(orderLocation)\n",
    "orders = customerOrder.analyzeCustomerOrders()\n",
    "if orders is not None:\n",
    "    paintMaker = PaintMaker(orders)\n",
    "    deliveryReports = paintMaker.executeOrders()\n",
    "\n",
    "    for report in deliveryReports:\n",
    "        print(deliverOrder(report[0], report[1], report[2]))"
   ]
  },
  {
   "cell_type": "markdown",
   "metadata": {},
   "source": [
    "#### Example 4"
   ]
  },
  {
   "cell_type": "code",
   "execution_count": 10,
   "metadata": {},
   "outputs": [],
   "source": [
    "orderLocation = 'paintfactory/orders/order4.txt'\n",
    "with open(orderLocation, 'r') as order:\n",
    "    order = order.readlines()\n",
    "    for line in order:\n",
    "        print(line.strip())"
   ]
  },
  {
   "cell_type": "code",
   "execution_count": 11,
   "metadata": {},
   "outputs": [],
   "source": [
    "customerOrder = CustomerOrder(orderLocation)\n",
    "orders = customerOrder.analyzeCustomerOrders()\n",
    "if orders is not None:\n",
    "    paintMaker = PaintMaker(orders)\n",
    "    deliveryReports = paintMaker.executeOrders()\n",
    "\n",
    "    for report in deliveryReports:\n",
    "        print(deliverOrder(report[0], report[1], report[2]))"
   ]
  },
  {
   "cell_type": "markdown",
   "metadata": {},
   "source": [
    "#### Example 5"
   ]
  },
  {
   "cell_type": "code",
   "execution_count": 12,
   "metadata": {},
   "outputs": [
    {
     "name": "stdout",
     "output_type": "stream",
     "text": [
      "1\n",
      "5\n",
      "3\n",
      "3 1 1 3 0 5 0\n",
      "3 2 0 3 1 4 0\n",
      "1 5 1\n"
     ]
    }
   ],
   "source": [
    "orderLocation = 'paintfactory/orders/order5.txt'\n",
    "with open(orderLocation, 'r') as order:\n",
    "    order = order.readlines()\n",
    "    for line in order:\n",
    "        print(line.strip())"
   ]
  },
  {
   "cell_type": "code",
   "execution_count": 13,
   "metadata": {},
   "outputs": [
    {
     "name": "stdout",
     "output_type": "stream",
     "text": [
      "Case #1: 0 0 0 0 1\n"
     ]
    }
   ],
   "source": [
    "customerOrder = CustomerOrder(orderLocation)\n",
    "orders = customerOrder.analyzeCustomerOrders()\n",
    "if orders is not None:\n",
    "    paintMaker = PaintMaker(orders)\n",
    "    deliveryReports = paintMaker.executeOrders()\n",
    "\n",
    "    for report in deliveryReports:\n",
    "        print(deliverOrder(report[0], report[1], report[2]))"
   ]
  },
  {
   "cell_type": "markdown",
   "metadata": {},
   "source": [
    "#### Example 6"
   ]
  },
  {
   "cell_type": "code",
   "execution_count": 14,
   "metadata": {},
   "outputs": [
    {
     "name": "stdout",
     "output_type": "stream",
     "text": [
      "1\n",
      "3\n",
      "3\n",
      "2 1 1 2 0\n",
      "2 2 0 3 0\n",
      "1 3 1\n"
     ]
    }
   ],
   "source": [
    "orderLocation = 'paintfactory/orders/order6.txt'\n",
    "with open(orderLocation, 'r') as order:\n",
    "    order = order.readlines()\n",
    "    for line in order:\n",
    "        print(line.strip())"
   ]
  },
  {
   "cell_type": "code",
   "execution_count": 15,
   "metadata": {},
   "outputs": [
    {
     "name": "stdout",
     "output_type": "stream",
     "text": [
      "Case #1: 0 0 1\n"
     ]
    }
   ],
   "source": [
    "customerOrder = CustomerOrder(orderLocation)\n",
    "orders = customerOrder.analyzeCustomerOrders()\n",
    "\n",
    "if orders is not None:\n",
    "    paintMaker = PaintMaker(orders)\n",
    "    deliveryReports = paintMaker.executeOrders()\n",
    "\n",
    "    for report in deliveryReports:\n",
    "        print(deliverOrder(report[0], report[1], report[2]))"
   ]
  },
  {
   "cell_type": "markdown",
   "metadata": {},
   "source": [
    "#### Example 7"
   ]
  },
  {
   "cell_type": "code",
   "execution_count": 16,
   "metadata": {},
   "outputs": [
    {
     "name": "stdout",
     "output_type": "stream",
     "text": [
      "2\n",
      "5\n",
      "1\n",
      "2 1 0 2 0\n",
      "1\n",
      "2\n",
      "1 1 0\n",
      "1 1 1\n"
     ]
    }
   ],
   "source": [
    "orderLocation = 'paintfactory/orders/order7.txt'\n",
    "with open(orderLocation, 'r') as order:\n",
    "    order = order.readlines()\n",
    "    for line in order:\n",
    "        print(line.strip())"
   ]
  },
  {
   "cell_type": "code",
   "execution_count": 17,
   "metadata": {},
   "outputs": [
    {
     "name": "stdout",
     "output_type": "stream",
     "text": [
      "Case #1: 0 0 0 0 0\n",
      "Case #2: IMPOSSIBLE\n"
     ]
    }
   ],
   "source": [
    "customerOrder = CustomerOrder(orderLocation)\n",
    "orders = customerOrder.analyzeCustomerOrders()\n",
    "\n",
    "if orders is not None:\n",
    "    paintMaker = PaintMaker(orders)\n",
    "    deliveryReports = paintMaker.executeOrders()\n",
    "\n",
    "    for report in deliveryReports:\n",
    "        print(deliverOrder(report[0], report[1], report[2]))"
   ]
  },
  {
   "cell_type": "markdown",
   "metadata": {},
   "source": [
    "#### Example 8"
   ]
  },
  {
   "cell_type": "code",
   "execution_count": 18,
   "metadata": {},
   "outputs": [
    {
     "name": "stdout",
     "output_type": "stream",
     "text": [
      "10\n",
      "5\n",
      "3\n",
      "1 1 1\n",
      "2 1 0 2 0\n",
      "1 5 0\n",
      "1\n",
      "2\n",
      "1 1 0\n",
      "1 1 1\n",
      "5\n",
      "3\n",
      "1 1 1\n",
      "2 1 0 2 1\n",
      "1 3 1\n",
      "1\n",
      "2\n",
      "1 1 1\n",
      "1 1 1\n",
      "5\n",
      "3\n",
      "1 1 1\n",
      "2 1 1 2 0\n",
      "1 3 1\n",
      "1\n",
      "2\n",
      "1 1 0\n",
      "1 1 1\n",
      "5\n",
      "3\n",
      "1 1 1\n",
      "2 1 0 2 0\n",
      "1 5 0\n",
      "4\n",
      "2\n",
      "2 1 1 3 0\n",
      "2 1 0 3 1\n",
      "5\n",
      "3\n",
      "1 2 1\n",
      "4 1 0 2 0 4 1 3 0\n",
      "3 5 0 2 1 1 0\n",
      "3\n",
      "2\n",
      "1 2 1\n",
      "1 1 1\n"
     ]
    }
   ],
   "source": [
    "orderLocation = 'paintfactory/orders/order8.txt'\n",
    "with open(orderLocation, 'r') as order:\n",
    "    order = order.readlines()\n",
    "    for line in order:\n",
    "        print(line.strip())"
   ]
  },
  {
   "cell_type": "code",
   "execution_count": 19,
   "metadata": {},
   "outputs": [
    {
     "name": "stdout",
     "output_type": "stream",
     "text": [
      "Case #1: 1 0 0 0 0\n",
      "Case #2: IMPOSSIBLE\n",
      "Case #3: 1 1 1 0 0\n",
      "Case #4: 1\n",
      "Case #5: 1 0 1 0 0\n",
      "Case #6: IMPOSSIBLE\n",
      "Case #7: 1 0 0 0 0\n",
      "Case #8: 0 0 0 0\n",
      "Case #9: 0 1 0 0 0\n",
      "Case #10: 1 1 0\n"
     ]
    }
   ],
   "source": [
    "customerOrder = CustomerOrder(orderLocation)\n",
    "orders = customerOrder.analyzeCustomerOrders()\n",
    "\n",
    "if orders is not None:\n",
    "    paintMaker = PaintMaker(orders)\n",
    "    deliveryReports = paintMaker.executeOrders()\n",
    "\n",
    "    for report in deliveryReports:\n",
    "        print(deliverOrder(report[0], report[1], report[2]))"
   ]
  }
 ],
 "metadata": {
  "kernelspec": {
   "display_name": "Python 3",
   "language": "python",
   "name": "python3"
  },
  "language_info": {
   "codemirror_mode": {
    "name": "ipython",
    "version": 3
   },
   "file_extension": ".py",
   "mimetype": "text/x-python",
   "name": "python",
   "nbconvert_exporter": "python",
   "pygments_lexer": "ipython3",
   "version": "3.6.4"
  }
 },
 "nbformat": 4,
 "nbformat_minor": 2
}
